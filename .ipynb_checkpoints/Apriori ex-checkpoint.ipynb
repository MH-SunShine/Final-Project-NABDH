{
 "cells": [
  {
   "cell_type": "code",
   "execution_count": 1,
   "id": "09251329-a5f8-4aa3-ac69-23992c8750d9",
   "metadata": {},
   "outputs": [
    {
     "name": "stdout",
     "output_type": "stream",
     "text": [
      "Frequent Itemsets:\n",
      "   support         itemsets\n",
      "0     0.75           (Milk)\n",
      "1     0.75          (Bread)\n",
      "2     0.50         (Butter)\n",
      "3     0.50    (Milk, Bread)\n",
      "4     0.50  (Butter, Bread)\n",
      "\n",
      "Association Rules:\n",
      "  antecedents consequents  antecedent support  consequent support  support  \\\n",
      "0    (Butter)     (Bread)                 0.5                0.75      0.5   \n",
      "\n",
      "   confidence      lift  representativity  leverage  conviction  \\\n",
      "0         1.0  1.333333               1.0     0.125         inf   \n",
      "\n",
      "   zhangs_metric   jaccard  certainty  kulczynski  \n",
      "0            0.5  0.666667        1.0    0.833333  \n"
     ]
    },
    {
     "name": "stderr",
     "output_type": "stream",
     "text": [
      "C:\\Users\\dell\\PycharmProjects\\Nabdh-FinalProject\\.venv\\Lib\\site-packages\\mlxtend\\frequent_patterns\\fpcommon.py:161: DeprecationWarning: DataFrames with non-bool types result in worse computationalperformance and their support might be discontinued in the future.Please use a DataFrame with bool type\n",
      "  warnings.warn(\n"
     ]
    }
   ],
   "source": [
    "import pandas as pd\n",
    "from mlxtend.frequent_patterns import apriori\n",
    "from mlxtend.frequent_patterns import association_rules\n",
    "\n",
    "# Step 1: Create a sample dataset\n",
    "data = {'Item': ['Milk', 'Bread', 'Butter', 'Beer', 'Diapers'],\n",
    "        'Transaction 1': [1, 1, 0, 0, 0],\n",
    "        'Transaction 2': [0, 1, 1, 0, 0],\n",
    "        'Transaction 3': [1, 0, 0, 1, 1],\n",
    "        'Transaction 4': [1, 1, 1, 0, 0]}\n",
    "\n",
    "# Convert the DataFrame to boolean values\n",
    "df = pd.DataFrame(data).set_index('Item').astype(bool)\n",
    "\n",
    "# Step 2: Apply the Apriori algorithm\n",
    "frequent_itemsets = apriori(df.T, min_support=0.5, use_colnames=True)\n",
    "print(\"Frequent Itemsets:\")\n",
    "print(frequent_itemsets)\n",
    "\n",
    "# Step 3: Generate association rules\n",
    "rules = association_rules(frequent_itemsets, metric=\"confidence\", min_threshold=0.7)\n",
    "print(\"\\nAssociation Rules:\")\n",
    "print(rules)"
   ]
  },
  {
   "cell_type": "code",
   "execution_count": null,
   "id": "a4591811-4c9e-4309-8224-7d997b17df29",
   "metadata": {},
   "outputs": [],
   "source": []
  }
 ],
 "metadata": {
  "kernelspec": {
   "display_name": "Python 3 (ipykernel)",
   "language": "python",
   "name": "python3"
  },
  "language_info": {
   "codemirror_mode": {
    "name": "ipython",
    "version": 3
   },
   "file_extension": ".py",
   "mimetype": "text/x-python",
   "name": "python",
   "nbconvert_exporter": "python",
   "pygments_lexer": "ipython3",
   "version": "3.13.0"
  }
 },
 "nbformat": 4,
 "nbformat_minor": 5
}
